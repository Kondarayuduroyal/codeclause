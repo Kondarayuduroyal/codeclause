{
  "nbformat": 4,
  "nbformat_minor": 0,
  "metadata": {
    "colab": {
      "provenance": []
    },
    "kernelspec": {
      "name": "python3",
      "display_name": "Python 3"
    },
    "language_info": {
      "name": "python"
    }
  },
  "cells": [
    {
      "cell_type": "code",
      "execution_count": 3,
      "metadata": {
        "colab": {
          "base_uri": "https://localhost:8080/"
        },
        "id": "sQzKKXIYf8JH",
        "outputId": "ad2d2023-82cf-4a58-8bf7-e85cc008f10e"
      },
      "outputs": [
        {
          "output_type": "stream",
          "name": "stdout",
          "text": [
            "\n",
            "----- To-Do List Menu -----\n",
            "1. Add Task\n",
            "2. Remove Task\n",
            "3. Display Tasks\n",
            "4. Quit\n",
            "Enter your choice (1-4): 1\n",
            "Enter task: PUBG\n",
            "Task added: PUBG\n",
            "\n",
            "----- To-Do List Menu -----\n",
            "1. Add Task\n",
            "2. Remove Task\n",
            "3. Display Tasks\n",
            "4. Quit\n",
            "Enter your choice (1-4): 2\n",
            "Enter task to remove: PUBG\n",
            "Task removed: PUBG\n",
            "\n",
            "----- To-Do List Menu -----\n",
            "1. Add Task\n",
            "2. Remove Task\n",
            "3. Display Tasks\n",
            "4. Quit\n",
            "Enter your choice (1-4): 3\n",
            "No tasks found.\n",
            "\n",
            "----- To-Do List Menu -----\n",
            "1. Add Task\n",
            "2. Remove Task\n",
            "3. Display Tasks\n",
            "4. Quit\n",
            "Enter your choice (1-4): 4\n",
            "Goodbye!\n"
          ]
        }
      ],
      "source": [
        "tasks = []\n",
        "\n",
        "# Function to add a task\n",
        "def add_task(task):\n",
        "    tasks.append(task)\n",
        "    print(\"Task added:\", task)\n",
        "\n",
        "# Function to remove a task\n",
        "def remove_task(task):\n",
        "    if task in tasks:\n",
        "        tasks.remove(task)\n",
        "        print(\"Task removed:\", task)\n",
        "    else:\n",
        "        print(\"Task not found.\")\n",
        "\n",
        "# Function to display all tasks\n",
        "def display_tasks():\n",
        "    if tasks:\n",
        "        print(\"Tasks:\")\n",
        "        for task in tasks:\n",
        "            print(\"-\", task)\n",
        "    else:\n",
        "        print(\"No tasks found.\")\n",
        "\n",
        "# Main program loop\n",
        "while True:\n",
        "    print(\"\\n----- To-Do List Menu -----\")\n",
        "    print(\"1. Add Task\")\n",
        "    print(\"2. Remove Task\")\n",
        "    print(\"3. Display Tasks\")\n",
        "    print(\"4. Quit\")\n",
        "    choice = input(\"Enter your choice (1-4): \")\n",
        "\n",
        "    if choice == \"1\":\n",
        "        task = input(\"Enter task: \")\n",
        "        add_task(task)\n",
        "    elif choice == \"2\":\n",
        "        task = input(\"Enter task to remove: \")\n",
        "        remove_task(task)\n",
        "    elif choice == \"3\":\n",
        "        display_tasks()\n",
        "    elif choice == \"4\":\n",
        "        print(\"Goodbye!\")\n",
        "        break\n",
        "    else:\n",
        "        print(\"Invalid choice. Please try again.\")"
      ]
    }
  ]
}